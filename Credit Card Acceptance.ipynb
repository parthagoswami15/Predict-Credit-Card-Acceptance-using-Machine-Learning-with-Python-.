{
 "cells": [
  {
   "cell_type": "markdown",
   "metadata": {},
   "source": [
    "# Predict Credit Card Acceptance"
   ]
  },
  {
   "cell_type": "raw",
   "metadata": {},
   "source": [
    "//////////////////////////////////////////////////////////////////////////////////////////////////////////////\n",
    "\n",
    "   --------------------------------        Workflow   \n",
    "  |   _____                        |       ========\n",
    "  |  |-| |-|                       |       > Getting the Data\n",
    "  |  |-| |-|                       |       > Data Checking  \n",
    "  |   -----                        |       > Data Preparation & Analytics\n",
    "  |                                |       > Feature Engineering\n",
    "  |  XXXX XXXX XXXX XXXX           |       > Modeling\n",
    "  |  NAME          10/23           |       > Explainability\n",
    "  |                                |       \n",
    "   --------------------------------         \n",
    "                                                                                    \n",
    "//////////////////////////////////////////////////////////////////////////////////////////////////////////////"
   ]
  },
  {
   "cell_type": "code",
   "execution_count": 2,
   "metadata": {},
   "outputs": [],
   "source": [
    "# Importing Modules\n",
    "import pandas as pd\n",
    "import numpy as np\n",
    "import seaborn as sns\n",
    "import matplotlib.pyplot as plt"
   ]
  },
  {
   "cell_type": "markdown",
   "metadata": {},
   "source": [
    "## 1. Getting the Data"
   ]
  },
  {
   "cell_type": "code",
   "execution_count": 3,
   "metadata": {},
   "outputs": [],
   "source": [
    "try:\n",
    "    data=pd.read_csv(\"MSDos.csv\")          # reading the file from Local Disk\n",
    "    df = data.copy()                       # creating copy of the DataFrame\n",
    "except:\n",
    "    print(\"Please Define Correct Path, Correct Name & Correct Format of Dataset\")"
   ]
  },
  {
   "cell_type": "markdown",
   "metadata": {},
   "source": [
    "## 2. Data Checking Process"
   ]
  },
  {
   "cell_type": "code",
   "execution_count": 4,
   "metadata": {},
   "outputs": [
    {
     "name": "stdout",
     "output_type": "stream",
     "text": [
      "Input Data Contain :-\n",
      "---------------------\n",
      "rows: 1319 \n",
      "Number of observations: 12\n",
      "\n",
      "Columns are :-\n",
      "--------------\n",
      "Index(['card', 'reports', 'age', 'income', 'share', 'expenditure', 'owner',\n",
      "       'selfemp', 'dependents', 'months', 'majorcards', 'active'],\n",
      "      dtype='object')\n"
     ]
    }
   ],
   "source": [
    "print(\"Input Data Contain :-\")\n",
    "print(\"---------------------\")\n",
    "print(\"rows: {}\".format(df.shape[0]),end=\" \")\n",
    "print(\"\\nNumber of observations: {}\".format(df.shape[1]))\n",
    "print(\"\\nColumns are :-\")\n",
    "print(\"--------------\")\n",
    "# df.columns = [x.lower() for x in df.columns]\n",
    "print(data.columns)"
   ]
  },
  {
   "cell_type": "code",
   "execution_count": 5,
   "metadata": {},
   "outputs": [
    {
     "data": {
      "text/html": [
       "<div>\n",
       "<style scoped>\n",
       "    .dataframe tbody tr th:only-of-type {\n",
       "        vertical-align: middle;\n",
       "    }\n",
       "\n",
       "    .dataframe tbody tr th {\n",
       "        vertical-align: top;\n",
       "    }\n",
       "\n",
       "    .dataframe thead th {\n",
       "        text-align: right;\n",
       "    }\n",
       "</style>\n",
       "<table border=\"1\" class=\"dataframe\">\n",
       "  <thead>\n",
       "    <tr style=\"text-align: right;\">\n",
       "      <th></th>\n",
       "      <th>card</th>\n",
       "      <th>reports</th>\n",
       "      <th>age</th>\n",
       "      <th>income</th>\n",
       "      <th>share</th>\n",
       "      <th>expenditure</th>\n",
       "      <th>owner</th>\n",
       "      <th>selfemp</th>\n",
       "      <th>dependents</th>\n",
       "      <th>months</th>\n",
       "      <th>majorcards</th>\n",
       "      <th>active</th>\n",
       "    </tr>\n",
       "  </thead>\n",
       "  <tbody>\n",
       "    <tr>\n",
       "      <th>count</th>\n",
       "      <td>1319</td>\n",
       "      <td>1319.000000</td>\n",
       "      <td>1319.000000</td>\n",
       "      <td>1319.000000</td>\n",
       "      <td>1319.000000</td>\n",
       "      <td>1319.000000</td>\n",
       "      <td>1319</td>\n",
       "      <td>1319</td>\n",
       "      <td>1319.000000</td>\n",
       "      <td>1319.000000</td>\n",
       "      <td>1319.000000</td>\n",
       "      <td>1319.000000</td>\n",
       "    </tr>\n",
       "    <tr>\n",
       "      <th>unique</th>\n",
       "      <td>2</td>\n",
       "      <td>NaN</td>\n",
       "      <td>NaN</td>\n",
       "      <td>NaN</td>\n",
       "      <td>NaN</td>\n",
       "      <td>NaN</td>\n",
       "      <td>2</td>\n",
       "      <td>2</td>\n",
       "      <td>NaN</td>\n",
       "      <td>NaN</td>\n",
       "      <td>NaN</td>\n",
       "      <td>NaN</td>\n",
       "    </tr>\n",
       "    <tr>\n",
       "      <th>top</th>\n",
       "      <td>yes</td>\n",
       "      <td>NaN</td>\n",
       "      <td>NaN</td>\n",
       "      <td>NaN</td>\n",
       "      <td>NaN</td>\n",
       "      <td>NaN</td>\n",
       "      <td>no</td>\n",
       "      <td>no</td>\n",
       "      <td>NaN</td>\n",
       "      <td>NaN</td>\n",
       "      <td>NaN</td>\n",
       "      <td>NaN</td>\n",
       "    </tr>\n",
       "    <tr>\n",
       "      <th>freq</th>\n",
       "      <td>1023</td>\n",
       "      <td>NaN</td>\n",
       "      <td>NaN</td>\n",
       "      <td>NaN</td>\n",
       "      <td>NaN</td>\n",
       "      <td>NaN</td>\n",
       "      <td>738</td>\n",
       "      <td>1228</td>\n",
       "      <td>NaN</td>\n",
       "      <td>NaN</td>\n",
       "      <td>NaN</td>\n",
       "      <td>NaN</td>\n",
       "    </tr>\n",
       "    <tr>\n",
       "      <th>mean</th>\n",
       "      <td>NaN</td>\n",
       "      <td>0.456406</td>\n",
       "      <td>33.213103</td>\n",
       "      <td>3.365376</td>\n",
       "      <td>0.068732</td>\n",
       "      <td>185.057071</td>\n",
       "      <td>NaN</td>\n",
       "      <td>NaN</td>\n",
       "      <td>0.993935</td>\n",
       "      <td>55.267627</td>\n",
       "      <td>0.817286</td>\n",
       "      <td>6.996967</td>\n",
       "    </tr>\n",
       "    <tr>\n",
       "      <th>std</th>\n",
       "      <td>NaN</td>\n",
       "      <td>1.345267</td>\n",
       "      <td>10.142783</td>\n",
       "      <td>1.693902</td>\n",
       "      <td>0.094656</td>\n",
       "      <td>272.218917</td>\n",
       "      <td>NaN</td>\n",
       "      <td>NaN</td>\n",
       "      <td>1.247745</td>\n",
       "      <td>66.271746</td>\n",
       "      <td>0.386579</td>\n",
       "      <td>6.305812</td>\n",
       "    </tr>\n",
       "    <tr>\n",
       "      <th>min</th>\n",
       "      <td>NaN</td>\n",
       "      <td>0.000000</td>\n",
       "      <td>0.166667</td>\n",
       "      <td>0.210000</td>\n",
       "      <td>0.000109</td>\n",
       "      <td>0.000000</td>\n",
       "      <td>NaN</td>\n",
       "      <td>NaN</td>\n",
       "      <td>0.000000</td>\n",
       "      <td>0.000000</td>\n",
       "      <td>0.000000</td>\n",
       "      <td>0.000000</td>\n",
       "    </tr>\n",
       "    <tr>\n",
       "      <th>25%</th>\n",
       "      <td>NaN</td>\n",
       "      <td>0.000000</td>\n",
       "      <td>25.416670</td>\n",
       "      <td>2.243750</td>\n",
       "      <td>0.002316</td>\n",
       "      <td>4.583333</td>\n",
       "      <td>NaN</td>\n",
       "      <td>NaN</td>\n",
       "      <td>0.000000</td>\n",
       "      <td>12.000000</td>\n",
       "      <td>1.000000</td>\n",
       "      <td>2.000000</td>\n",
       "    </tr>\n",
       "    <tr>\n",
       "      <th>50%</th>\n",
       "      <td>NaN</td>\n",
       "      <td>0.000000</td>\n",
       "      <td>31.250000</td>\n",
       "      <td>2.900000</td>\n",
       "      <td>0.038827</td>\n",
       "      <td>101.298300</td>\n",
       "      <td>NaN</td>\n",
       "      <td>NaN</td>\n",
       "      <td>1.000000</td>\n",
       "      <td>30.000000</td>\n",
       "      <td>1.000000</td>\n",
       "      <td>6.000000</td>\n",
       "    </tr>\n",
       "    <tr>\n",
       "      <th>75%</th>\n",
       "      <td>NaN</td>\n",
       "      <td>0.000000</td>\n",
       "      <td>39.416670</td>\n",
       "      <td>4.000000</td>\n",
       "      <td>0.093617</td>\n",
       "      <td>249.035800</td>\n",
       "      <td>NaN</td>\n",
       "      <td>NaN</td>\n",
       "      <td>2.000000</td>\n",
       "      <td>72.000000</td>\n",
       "      <td>1.000000</td>\n",
       "      <td>11.000000</td>\n",
       "    </tr>\n",
       "    <tr>\n",
       "      <th>max</th>\n",
       "      <td>NaN</td>\n",
       "      <td>14.000000</td>\n",
       "      <td>83.500000</td>\n",
       "      <td>13.500000</td>\n",
       "      <td>0.906320</td>\n",
       "      <td>3099.505000</td>\n",
       "      <td>NaN</td>\n",
       "      <td>NaN</td>\n",
       "      <td>6.000000</td>\n",
       "      <td>540.000000</td>\n",
       "      <td>1.000000</td>\n",
       "      <td>46.000000</td>\n",
       "    </tr>\n",
       "  </tbody>\n",
       "</table>\n",
       "</div>"
      ],
      "text/plain": [
       "        card      reports          age       income        share  expenditure  \\\n",
       "count   1319  1319.000000  1319.000000  1319.000000  1319.000000  1319.000000   \n",
       "unique     2          NaN          NaN          NaN          NaN          NaN   \n",
       "top      yes          NaN          NaN          NaN          NaN          NaN   \n",
       "freq    1023          NaN          NaN          NaN          NaN          NaN   \n",
       "mean     NaN     0.456406    33.213103     3.365376     0.068732   185.057071   \n",
       "std      NaN     1.345267    10.142783     1.693902     0.094656   272.218917   \n",
       "min      NaN     0.000000     0.166667     0.210000     0.000109     0.000000   \n",
       "25%      NaN     0.000000    25.416670     2.243750     0.002316     4.583333   \n",
       "50%      NaN     0.000000    31.250000     2.900000     0.038827   101.298300   \n",
       "75%      NaN     0.000000    39.416670     4.000000     0.093617   249.035800   \n",
       "max      NaN    14.000000    83.500000    13.500000     0.906320  3099.505000   \n",
       "\n",
       "       owner selfemp   dependents       months   majorcards       active  \n",
       "count   1319    1319  1319.000000  1319.000000  1319.000000  1319.000000  \n",
       "unique     2       2          NaN          NaN          NaN          NaN  \n",
       "top       no      no          NaN          NaN          NaN          NaN  \n",
       "freq     738    1228          NaN          NaN          NaN          NaN  \n",
       "mean     NaN     NaN     0.993935    55.267627     0.817286     6.996967  \n",
       "std      NaN     NaN     1.247745    66.271746     0.386579     6.305812  \n",
       "min      NaN     NaN     0.000000     0.000000     0.000000     0.000000  \n",
       "25%      NaN     NaN     0.000000    12.000000     1.000000     2.000000  \n",
       "50%      NaN     NaN     1.000000    30.000000     1.000000     6.000000  \n",
       "75%      NaN     NaN     2.000000    72.000000     1.000000    11.000000  \n",
       "max      NaN     NaN     6.000000   540.000000     1.000000    46.000000  "
      ]
     },
     "execution_count": 5,
     "metadata": {},
     "output_type": "execute_result"
    }
   ],
   "source": [
    "data.describe(include=\"all\")    # excludes missing values"
   ]
  },
  {
   "cell_type": "markdown",
   "metadata": {},
   "source": [
    "## 3. Data Cleaning Process"
   ]
  },
  {
   "cell_type": "markdown",
   "metadata": {},
   "source": [
    "#### 3.1. Replacing all null values if any"
   ]
  },
  {
   "cell_type": "code",
   "execution_count": 6,
   "metadata": {},
   "outputs": [
    {
     "name": "stdout",
     "output_type": "stream",
     "text": [
      "There is no NuLL value in your Database\n"
     ]
    }
   ],
   "source": [
    "if(df[\"card\" and \"reports\" and \"age\" and \"income\" and \"share\" and \"expenditure\" and \"owner\" and \n",
    "      \"selfemp\" and \"dependents\" and \"months\" and \"majorcards\"].count()==data.shape[0]):\n",
    "    print(\"There is no NuLL value in your Database\")\n",
    "else:         \n",
    "    print(\"NuLL value present in your Database\")\n",
    "    df.loc[df.card.isnull(),\"card\"]               =\"no\"\n",
    "    df.loc[df.owner.isnull(),\"owner\"]             =\"no\"\n",
    "    df.loc[df.selfemp.isnull(),\"selfemp\"]         =\"no\"\n",
    "    df.loc[df.reports.isnull(),\"reports\"]         =0\n",
    "    df.loc[df.majorcards.isnull(),\"majorcards\"]   =0\n",
    "    df.loc[df.age.isnull(),\"age\"]                 =df[\"age\"].mean() or df[\"age\"].median()\n",
    "    df.loc[df.income.isnull(),\"income\"]           =df[\"income\"].mean() or df[\"income\"].median()\n",
    "    df.loc[df.share.isnull(),\"share\"]             =df[\"share\"].mean() or df[\"share\"].median()\n",
    "    df.loc[df.expenditure.isnull(),\"expenditure\"] =df[\"expenditure\"].mean() or df[\"expenditure\"].median()\n",
    "    df.loc[df.dependents.isnull(),\"dependents\"]   =df[\"dependents\"].mean() or df[\"dependents\"].median()\n",
    "    df.loc[df.months.isnull(),\"months\"]           =df[\"months\"].mean() or df[\"months\"].median()\n",
    "    df.loc[df.active.isnull(),\"active\"]           =df[\"active\"].mean() or df[\"active\"].median()  "
   ]
  },
  {
   "cell_type": "markdown",
   "metadata": {},
   "source": [
    "<<<<<<<<<<<<<<<<<<<<<<<<<<<<<<<<<<<<<<<<<<<<<<<<<<<<<<<<<<<<<<<<<<<<<<<<<<<<"
   ]
  },
  {
   "cell_type": "markdown",
   "metadata": {},
   "source": [
    "#### 3.2. Checking the percentage of missing data"
   ]
  },
  {
   "cell_type": "code",
   "execution_count": 7,
   "metadata": {},
   "outputs": [
    {
     "data": {
      "text/html": [
       "<div>\n",
       "<style scoped>\n",
       "    .dataframe tbody tr th:only-of-type {\n",
       "        vertical-align: middle;\n",
       "    }\n",
       "\n",
       "    .dataframe tbody tr th {\n",
       "        vertical-align: top;\n",
       "    }\n",
       "\n",
       "    .dataframe thead th {\n",
       "        text-align: right;\n",
       "    }\n",
       "</style>\n",
       "<table border=\"1\" class=\"dataframe\">\n",
       "  <thead>\n",
       "    <tr style=\"text-align: right;\">\n",
       "      <th></th>\n",
       "      <th>card</th>\n",
       "      <th>reports</th>\n",
       "      <th>age</th>\n",
       "      <th>income</th>\n",
       "      <th>share</th>\n",
       "      <th>expenditure</th>\n",
       "      <th>owner</th>\n",
       "      <th>selfemp</th>\n",
       "      <th>dependents</th>\n",
       "      <th>months</th>\n",
       "      <th>majorcards</th>\n",
       "      <th>active</th>\n",
       "    </tr>\n",
       "  </thead>\n",
       "  <tbody>\n",
       "    <tr>\n",
       "      <th>Total</th>\n",
       "      <td>0.0</td>\n",
       "      <td>0.0</td>\n",
       "      <td>0.0</td>\n",
       "      <td>0.0</td>\n",
       "      <td>0.0</td>\n",
       "      <td>0.0</td>\n",
       "      <td>0.0</td>\n",
       "      <td>0.0</td>\n",
       "      <td>0.0</td>\n",
       "      <td>0.0</td>\n",
       "      <td>0.0</td>\n",
       "      <td>0.0</td>\n",
       "    </tr>\n",
       "    <tr>\n",
       "      <th>Percent</th>\n",
       "      <td>0.0</td>\n",
       "      <td>0.0</td>\n",
       "      <td>0.0</td>\n",
       "      <td>0.0</td>\n",
       "      <td>0.0</td>\n",
       "      <td>0.0</td>\n",
       "      <td>0.0</td>\n",
       "      <td>0.0</td>\n",
       "      <td>0.0</td>\n",
       "      <td>0.0</td>\n",
       "      <td>0.0</td>\n",
       "      <td>0.0</td>\n",
       "    </tr>\n",
       "  </tbody>\n",
       "</table>\n",
       "</div>"
      ],
      "text/plain": [
       "         card  reports  age  income  share  expenditure  owner  selfemp  \\\n",
       "Total     0.0      0.0  0.0     0.0    0.0          0.0    0.0      0.0   \n",
       "Percent   0.0      0.0  0.0     0.0    0.0          0.0    0.0      0.0   \n",
       "\n",
       "         dependents  months  majorcards  active  \n",
       "Total           0.0     0.0         0.0     0.0  \n",
       "Percent         0.0     0.0         0.0     0.0  "
      ]
     },
     "execution_count": 7,
     "metadata": {},
     "output_type": "execute_result"
    }
   ],
   "source": [
    "total = df.isnull().sum().sort_values(ascending = True)\n",
    "percent = (df.isnull().sum()/df.isnull().count()*100).sort_values(ascending = True)\n",
    "pd.concat([total, percent], axis=1, keys=['Total', 'Percent']).transpose()"
   ]
  },
  {
   "cell_type": "markdown",
   "metadata": {},
   "source": [
    "<<<<<<<<<<<<<<<<<<<<<<<<<<<<<<<<<<<<<<<<<<<<<<<<<<<<<<<<<<<<<<<<<<<<<<<<<<<<"
   ]
  },
  {
   "cell_type": "markdown",
   "metadata": {},
   "source": [
    "#### 3.3. Detecting copy of data"
   ]
  },
  {
   "cell_type": "code",
   "execution_count": 8,
   "metadata": {},
   "outputs": [
    {
     "name": "stdout",
     "output_type": "stream",
     "text": [
      "Printing Duplicate data accross whole Dataframe\n",
      "Empty DataFrame\n",
      "Columns: [card, reports, age, income, share, expenditure, owner, selfemp, dependents, months, majorcards, active]\n",
      "Index: []\n"
     ]
    }
   ],
   "source": [
    "duplicateRows=df[df.duplicated()]\n",
    "print(\"Printing Duplicate data accross whole Dataframe\")\n",
    "print(duplicateRows)"
   ]
  },
  {
   "cell_type": "markdown",
   "metadata": {},
   "source": [
    "<<<<<<<<<<<<<<<<<<<<<<<<<<<<<<<<<<<<<<<<<<<<<<<<<<<<<<<<<<<<<<<<<<<<<<<<<<<<"
   ]
  },
  {
   "cell_type": "markdown",
   "metadata": {},
   "source": [
    "#### 3.4. Exploring data(Detecting outliers) & Removing outliers"
   ]
  },
  {
   "cell_type": "code",
   "execution_count": 11,
   "metadata": {},
   "outputs": [
    {
     "name": "stdout",
     "output_type": "stream",
     "text": [
      "Before removing outliers\n"
     ]
    },
    {
     "data": {
      "image/png": "[encoded data removed]",
      "text/plain": [
       "<Figure size 432x288 with 1 Axes>"
      ]
     },
     "metadata": {},
     "output_type": "display_data"
    },
    {
     "name": "stdout",
     "output_type": "stream",
     "text": [
      "After removing outliers\n"
     ]
    },
    {
     "data": {
      "image/png": "[encoded data removed]",
      "text/plain": [
       "<Figure size 432x288 with 1 Axes>"
      ]
     },
     "metadata": {},
     "output_type": "display_data"
    }
   ],
   "source": [
    "# boxplotting age value before removeing outliers\n",
    "print(\"Before removing outliers\")\n",
    "fig1= plt.figure()\n",
    "fig1.add_subplot(2,1,1)\n",
    "sns.set(style=\"darkgrid\")\n",
    "sns.boxplot(x=df[\"age\"])\n",
    "plt.show()\n",
    "\n",
    "# replacing spike factor with mean value of age\n",
    "mean_age= df.loc[df[\"age\"] < max(df[\"age\"]), \"age\"].mean()\n",
    "df[\"age\"] = np.where(df[\"age\"] < 21, mean_age ,df[\"age\"])\n",
    "df[\"age\"] = np.where(df[\"age\"] > 56, mean_age ,df[\"age\"])\n",
    "\n",
    "\n",
    "# boxplotting age value after removeing outliers\n",
    "print(\"After removing outliers\")\n",
    "fig2= plt.figure()\n",
    "fig2.add_subplot(2,1,2)\n",
    "sns.set(style=\"darkgrid\")\n",
    "sns.boxplot(x=df[\"age\"])\n",
    "plt.show()"
   ]
  },
  {
   "cell_type": "code",
   "execution_count": 12,
   "metadata": {},
   "outputs": [
    {
     "data": {
      "text/html": [
       "<div>\n",
       "<style scoped>\n",
       "    .dataframe tbody tr th:only-of-type {\n",
       "        vertical-align: middle;\n",
       "    }\n",
       "\n",
       "    .dataframe tbody tr th {\n",
       "        vertical-align: top;\n",
       "    }\n",
       "\n",
       "    .dataframe thead th {\n",
       "        text-align: right;\n",
       "    }\n",
       "</style>\n",
       "<table border=\"1\" class=\"dataframe\">\n",
       "  <thead>\n",
       "    <tr style=\"text-align: right;\">\n",
       "      <th></th>\n",
       "      <th>card</th>\n",
       "      <th>reports</th>\n",
       "      <th>age</th>\n",
       "      <th>income</th>\n",
       "      <th>share</th>\n",
       "      <th>expenditure</th>\n",
       "      <th>owner</th>\n",
       "      <th>selfemp</th>\n",
       "      <th>dependents</th>\n",
       "      <th>months</th>\n",
       "      <th>majorcards</th>\n",
       "      <th>active</th>\n",
       "    </tr>\n",
       "  </thead>\n",
       "  <tbody>\n",
       "    <tr>\n",
       "      <th>0</th>\n",
       "      <td>yes</td>\n",
       "      <td>0</td>\n",
       "      <td>37.66667</td>\n",
       "      <td>4.5200</td>\n",
       "      <td>0.033270</td>\n",
       "      <td>124.983300</td>\n",
       "      <td>yes</td>\n",
       "      <td>no</td>\n",
       "      <td>3</td>\n",
       "      <td>54</td>\n",
       "      <td>1</td>\n",
       "      <td>12</td>\n",
       "    </tr>\n",
       "    <tr>\n",
       "      <th>1</th>\n",
       "      <td>yes</td>\n",
       "      <td>0</td>\n",
       "      <td>33.25000</td>\n",
       "      <td>2.4200</td>\n",
       "      <td>0.005217</td>\n",
       "      <td>9.854167</td>\n",
       "      <td>no</td>\n",
       "      <td>no</td>\n",
       "      <td>3</td>\n",
       "      <td>34</td>\n",
       "      <td>1</td>\n",
       "      <td>13</td>\n",
       "    </tr>\n",
       "    <tr>\n",
       "      <th>2</th>\n",
       "      <td>yes</td>\n",
       "      <td>0</td>\n",
       "      <td>33.66667</td>\n",
       "      <td>4.5000</td>\n",
       "      <td>0.004156</td>\n",
       "      <td>15.000000</td>\n",
       "      <td>yes</td>\n",
       "      <td>no</td>\n",
       "      <td>4</td>\n",
       "      <td>58</td>\n",
       "      <td>1</td>\n",
       "      <td>5</td>\n",
       "    </tr>\n",
       "    <tr>\n",
       "      <th>3</th>\n",
       "      <td>yes</td>\n",
       "      <td>0</td>\n",
       "      <td>30.50000</td>\n",
       "      <td>2.5400</td>\n",
       "      <td>0.065214</td>\n",
       "      <td>137.869200</td>\n",
       "      <td>no</td>\n",
       "      <td>no</td>\n",
       "      <td>0</td>\n",
       "      <td>25</td>\n",
       "      <td>1</td>\n",
       "      <td>7</td>\n",
       "    </tr>\n",
       "    <tr>\n",
       "      <th>4</th>\n",
       "      <td>yes</td>\n",
       "      <td>0</td>\n",
       "      <td>32.16667</td>\n",
       "      <td>9.7867</td>\n",
       "      <td>0.067051</td>\n",
       "      <td>546.503300</td>\n",
       "      <td>yes</td>\n",
       "      <td>no</td>\n",
       "      <td>2</td>\n",
       "      <td>64</td>\n",
       "      <td>1</td>\n",
       "      <td>5</td>\n",
       "    </tr>\n",
       "  </tbody>\n",
       "</table>\n",
       "</div>"
      ],
      "text/plain": [
       "  card  reports       age  income     share  expenditure owner selfemp  \\\n",
       "0  yes        0  37.66667  4.5200  0.033270   124.983300   yes      no   \n",
       "1  yes        0  33.25000  2.4200  0.005217     9.854167    no      no   \n",
       "2  yes        0  33.66667  4.5000  0.004156    15.000000   yes      no   \n",
       "3  yes        0  30.50000  2.5400  0.065214   137.869200    no      no   \n",
       "4  yes        0  32.16667  9.7867  0.067051   546.503300   yes      no   \n",
       "\n",
       "   dependents  months  majorcards  active  \n",
       "0           3      54           1      12  \n",
       "1           3      34           1      13  \n",
       "2           4      58           1       5  \n",
       "3           0      25           1       7  \n",
       "4           2      64           1       5  "
      ]
     },
     "execution_count": 12,
     "metadata": {},
     "output_type": "execute_result"
    }
   ],
   "source": [
    "# Rounding off age column\n",
    "df.head()"
   ]
  },
  {
   "cell_type": "code",
   "execution_count": 13,
   "metadata": {},
   "outputs": [],
   "source": [
    "# Rounding off the value of age into nearest value\n",
    "df[\"age\"] = df[\"age\"].apply(np.round)"
   ]
  },
  {
   "cell_type": "code",
   "execution_count": 14,
   "metadata": {},
   "outputs": [
    {
     "data": {
      "text/html": [
       "<div>\n",
       "<style scoped>\n",
       "    .dataframe tbody tr th:only-of-type {\n",
       "        vertical-align: middle;\n",
       "    }\n",
       "\n",
       "    .dataframe tbody tr th {\n",
       "        vertical-align: top;\n",
       "    }\n",
       "\n",
       "    .dataframe thead th {\n",
       "        text-align: right;\n",
       "    }\n",
       "</style>\n",
       "<table border=\"1\" class=\"dataframe\">\n",
       "  <thead>\n",
       "    <tr style=\"text-align: right;\">\n",
       "      <th></th>\n",
       "      <th>card</th>\n",
       "      <th>reports</th>\n",
       "      <th>age</th>\n",
       "      <th>income</th>\n",
       "      <th>share</th>\n",
       "      <th>expenditure</th>\n",
       "      <th>owner</th>\n",
       "      <th>selfemp</th>\n",
       "      <th>dependents</th>\n",
       "      <th>months</th>\n",
       "      <th>majorcards</th>\n",
       "      <th>active</th>\n",
       "    </tr>\n",
       "  </thead>\n",
       "  <tbody>\n",
       "    <tr>\n",
       "      <th>0</th>\n",
       "      <td>yes</td>\n",
       "      <td>0</td>\n",
       "      <td>38.0</td>\n",
       "      <td>4.5200</td>\n",
       "      <td>0.033270</td>\n",
       "      <td>124.983300</td>\n",
       "      <td>yes</td>\n",
       "      <td>no</td>\n",
       "      <td>3</td>\n",
       "      <td>54</td>\n",
       "      <td>1</td>\n",
       "      <td>12</td>\n",
       "    </tr>\n",
       "    <tr>\n",
       "      <th>1</th>\n",
       "      <td>yes</td>\n",
       "      <td>0</td>\n",
       "      <td>33.0</td>\n",
       "      <td>2.4200</td>\n",
       "      <td>0.005217</td>\n",
       "      <td>9.854167</td>\n",
       "      <td>no</td>\n",
       "      <td>no</td>\n",
       "      <td>3</td>\n",
       "      <td>34</td>\n",
       "      <td>1</td>\n",
       "      <td>13</td>\n",
       "    </tr>\n",
       "    <tr>\n",
       "      <th>2</th>\n",
       "      <td>yes</td>\n",
       "      <td>0</td>\n",
       "      <td>34.0</td>\n",
       "      <td>4.5000</td>\n",
       "      <td>0.004156</td>\n",
       "      <td>15.000000</td>\n",
       "      <td>yes</td>\n",
       "      <td>no</td>\n",
       "      <td>4</td>\n",
       "      <td>58</td>\n",
       "      <td>1</td>\n",
       "      <td>5</td>\n",
       "    </tr>\n",
       "    <tr>\n",
       "      <th>3</th>\n",
       "      <td>yes</td>\n",
       "      <td>0</td>\n",
       "      <td>30.0</td>\n",
       "      <td>2.5400</td>\n",
       "      <td>0.065214</td>\n",
       "      <td>137.869200</td>\n",
       "      <td>no</td>\n",
       "      <td>no</td>\n",
       "      <td>0</td>\n",
       "      <td>25</td>\n",
       "      <td>1</td>\n",
       "      <td>7</td>\n",
       "    </tr>\n",
       "    <tr>\n",
       "      <th>4</th>\n",
       "      <td>yes</td>\n",
       "      <td>0</td>\n",
       "      <td>32.0</td>\n",
       "      <td>9.7867</td>\n",
       "      <td>0.067051</td>\n",
       "      <td>546.503300</td>\n",
       "      <td>yes</td>\n",
       "      <td>no</td>\n",
       "      <td>2</td>\n",
       "      <td>64</td>\n",
       "      <td>1</td>\n",
       "      <td>5</td>\n",
       "    </tr>\n",
       "  </tbody>\n",
       "</table>\n",
       "</div>"
      ],
      "text/plain": [
       "  card  reports   age  income     share  expenditure owner selfemp  \\\n",
       "0  yes        0  38.0  4.5200  0.033270   124.983300   yes      no   \n",
       "1  yes        0  33.0  2.4200  0.005217     9.854167    no      no   \n",
       "2  yes        0  34.0  4.5000  0.004156    15.000000   yes      no   \n",
       "3  yes        0  30.0  2.5400  0.065214   137.869200    no      no   \n",
       "4  yes        0  32.0  9.7867  0.067051   546.503300   yes      no   \n",
       "\n",
       "   dependents  months  majorcards  active  \n",
       "0           3      54           1      12  \n",
       "1           3      34           1      13  \n",
       "2           4      58           1       5  \n",
       "3           0      25           1       7  \n",
       "4           2      64           1       5  "
      ]
     },
     "execution_count": 14,
     "metadata": {},
     "output_type": "execute_result"
    }
   ],
   "source": [
    "df.head()"
   ]
  },
  {
   "cell_type": "markdown",
   "metadata": {},
   "source": [
    "<<<<<<<<<<<<<<<<<<<<<<<<<<<<<<<<<<<<<<<<<<<<<<<<<<<<<<<<<<<<<<<<<<<<<<<<<<<<"
   ]
  },
  {
   "cell_type": "code",
   "execution_count": 94,
   "metadata": {},
   "outputs": [
    {
     "name": "stdout",
     "output_type": "stream",
     "text": [
      "Before removing outliers\n"
     ]
    },
    {
     "data": {
      "image/png": "[encoded data removed]",
      "text/plain": [
       "<Figure size 432x288 with 1 Axes>"
      ]
     },
     "metadata": {},
     "output_type": "display_data"
    },
    {
     "name": "stdout",
     "output_type": "stream",
     "text": [
      "After removing outliers\n"
     ]
    },
    {
     "data": {
      "image/png": "[encoded data removed]",
      "text/plain": [
       "<Figure size 432x288 with 1 Axes>"
      ]
     },
     "metadata": {},
     "output_type": "display_data"
    }
   ],
   "source": [
    "# boxplotting income & employment before removeing outliers\n",
    "print(\"Before removing outliers\")\n",
    "fig3= plt.figure()\n",
    "fig3.add_subplot(2,1,1)\n",
    "sns.set(style=\"darkgrid\")\n",
    "sns.boxplot(x=\"income\",y=\"selfemp\",data=df)\n",
    "plt.show()\n",
    "\n",
    "# replacing spike factor with mean value of income\n",
    "#df[\"selfemp\"][df.index]==\"no\"\n",
    "#if(df.index[7]==0):\n",
    "for x in range (df.shape[0]):\n",
    "    if(df.selfemp[x]=='no'):\n",
    "        mean_age= df.loc[df[\"income\"] < max(df[\"income\"]), \"income\"].mean()\n",
    "        df[\"income\"] = np.where(df[\"income\"]<1.5, mean_age,df[\"income\"])\n",
    "        df[\"income\"] = np.where(df[\"income\"]>4.5, mean_age,df[\"income\"])\n",
    "    else:\n",
    "        mean_age= df.loc[df[\"income\"] < max(df[\"income\"]), \"income\"].mean()\n",
    "        df[\"income\"] = np.where(df[\"income\"]<1.8, mean_age,df[\"income\"])\n",
    "        df[\"income\"] = np.where(df[\"income\"]>7.5, mean_age,df[\"income\"])\n",
    "\n",
    "# boxplotting income & employment after removeing outliers\n",
    "print(\"After removing outliers\")\n",
    "fig4= plt.figure()\n",
    "fig4.add_subplot(2,1,2)\n",
    "sns.set(style=\"darkgrid\")\n",
    "sns.boxplot(x=\"income\",y=\"selfemp\",data=df)\n",
    "plt.show()"
   ]
  },
  {
   "cell_type": "markdown",
   "metadata": {},
   "source": [
    "<<<<<<<<<<<<<<<<<<<<<<<<<<<<<<<<<<<<<<<<<<<<<<<<<<<<<<<<<<<<<<<<<<<<<<<<<<<<"
   ]
  },
  {
   "cell_type": "code",
   "execution_count": 15,
   "metadata": {},
   "outputs": [
    {
     "data": {
      "image/png": "[encoded data removed]",
      "text/plain": [
       "<Figure size 432x288 with 1 Axes>"
      ]
     },
     "metadata": {},
     "output_type": "display_data"
    }
   ],
   "source": [
    "sns.set(style=\"darkgrid\")\n",
    "plt.scatter(x=\"income\",y=\"expenditure\",color=\"#1a73e8ad\",data=df)\n",
    "plt.show()"
   ]
  },
  {
   "cell_type": "code",
   "execution_count": 16,
   "metadata": {},
   "outputs": [
    {
     "name": "stdout",
     "output_type": "stream",
     "text": [
      "Before removing outliers\n"
     ]
    },
    {
     "data": {
      "image/png": "[encoded data removed]",
      "text/plain": [
       "<Figure size 432x288 with 1 Axes>"
      ]
     },
     "metadata": {},
     "output_type": "display_data"
    },
    {
     "name": "stdout",
     "output_type": "stream",
     "text": [
      "After removing outliers\n"
     ]
    },
    {
     "data": {
      "image/png": "[encoded data removed]",
      "text/plain": [
       "<Figure size 432x288 with 1 Axes>"
      ]
     },
     "metadata": {},
     "output_type": "display_data"
    }
   ],
   "source": [
    "# boxplotting monthly expenses before removeing outliers\n",
    "print(\"Before removing outliers\")\n",
    "fig5= plt.figure()\n",
    "fig5.add_subplot(2,1,1)\n",
    "sns.set(style=\"darkgrid\")\n",
    "sns.boxplot(x=\"expenditure\",data=df)\n",
    "plt.show()\n",
    "\n",
    "# replacing spike factor with mean value of expenditure\n",
    "mean_age= df.loc[df[\"expenditure\"] < max(df[\"expenditure\"]), \"expenditure\"].mean()\n",
    "df[\"expenditure\"] = np.where(df[\"expenditure\"] < 0, mean_age ,df[\"expenditure\"])\n",
    "df[\"expenditure\"] = np.where(df[\"expenditure\"] > 450, mean_age ,df[\"expenditure\"])\n",
    "\n",
    "# boxplotting monthly expenses after removeing outliers\n",
    "print(\"After removing outliers\")\n",
    "fig6= plt.figure()\n",
    "fig6.add_subplot(2,1,2)\n",
    "sns.set(style=\"darkgrid\")\n",
    "sns.boxplot(x=\"expenditure\",data=df)\n",
    "plt.show()"
   ]
  },
  {
   "cell_type": "code",
   "execution_count": 17,
   "metadata": {},
   "outputs": [
    {
     "data": {
      "image/png": "[encoded data removed]",
      "text/plain": [
       "<Figure size 432x288 with 1 Axes>"
      ]
     },
     "metadata": {},
     "output_type": "display_data"
    }
   ],
   "source": [
    "sns.set(style=\"darkgrid\")\n",
    "plt.scatter(x=\"income\",y=\"expenditure\",color=\"#1a73e8ad\",data=df)\n",
    "plt.show()"
   ]
  },
  {
   "cell_type": "markdown",
   "metadata": {},
   "source": [
    "<<<<<<<<<<<<<<<<<<<<<<<<<<<<<<<<<<<<<<<<<<<<<<<<<<<<<<<<<<<<<<<<<<<<<<<<<<<<"
   ]
  },
  {
   "cell_type": "code",
   "execution_count": 18,
   "metadata": {},
   "outputs": [
    {
     "data": {
      "image/png": "[encoded data removed]",
      "text/plain": [
       "<Figure size 432x288 with 1 Axes>"
      ]
     },
     "metadata": {},
     "output_type": "display_data"
    }
   ],
   "source": [
    "sns.set(style=\"darkgrid\")\n",
    "plt.scatter(x=\"income\",y=\"share\",color=\"#19c51dbf\",data=df)\n",
    "plt.show()"
   ]
  },
  {
   "cell_type": "code",
   "execution_count": 19,
   "metadata": {},
   "outputs": [
    {
     "name": "stdout",
     "output_type": "stream",
     "text": [
      "Before removing outliers\n"
     ]
    },
    {
     "data": {
      "image/png": "[encoded data removed]",
      "text/plain": [
       "<Figure size 432x288 with 1 Axes>"
      ]
     },
     "metadata": {},
     "output_type": "display_data"
    },
    {
     "name": "stdout",
     "output_type": "stream",
     "text": [
      "After removing outliers\n"
     ]
    },
    {
     "data": {
      "image/png": "[encoded data removed]",
      "text/plain": [
       "<Figure size 432x288 with 1 Axes>"
      ]
     },
     "metadata": {},
     "output_type": "display_data"
    }
   ],
   "source": [
    "# boxplotting share before removeing outliers\n",
    "print(\"Before removing outliers\")\n",
    "fig7= plt.figure()\n",
    "fig7.add_subplot(2,1,1)\n",
    "sns.set(style=\"darkgrid\")\n",
    "sns.boxplot(x=\"share\",data=df)\n",
    "plt.show()\n",
    "\n",
    "# replacing spike factor with mean value of share\n",
    "mean_age= df.loc[df[\"share\"] < max(df[\"share\"]), \"share\"].mean()\n",
    "df[\"share\"] = np.where(df[\"share\"] < 0, mean_age ,df[\"share\"])\n",
    "df[\"share\"] = np.where(df[\"share\"] > 0.160, mean_age ,df[\"share\"])\n",
    "\n",
    "# boxplotting share after removeing outliers\n",
    "print(\"After removing outliers\")\n",
    "fig8= plt.figure()\n",
    "fig8.add_subplot(2,1,2)\n",
    "sns.set(style=\"darkgrid\")\n",
    "sns.boxplot(x=\"share\",data=df)\n",
    "plt.show()"
   ]
  },
  {
   "cell_type": "code",
   "execution_count": 20,
   "metadata": {},
   "outputs": [
    {
     "data": {
      "image/png": "[encoded data removed]",
      "text/plain": [
       "<Figure size 432x288 with 1 Axes>"
      ]
     },
     "metadata": {},
     "output_type": "display_data"
    }
   ],
   "source": [
    "sns.set(style=\"darkgrid\")\n",
    "plt.scatter(x=\"income\",y=\"share\",color=\"#19c51dbf\",data=df)\n",
    "plt.show()"
   ]
  },
  {
   "cell_type": "markdown",
   "metadata": {},
   "source": [
    "<<<<<<<<<<<<<<<<<<<<<<<<<<<<<<<<<<<<<<<<<<<<<<<<<<<<<<<<<<<<<<<<<<<<<<<<<<<<"
   ]
  },
  {
   "cell_type": "markdown",
   "metadata": {},
   "source": [
    "#### 3.5. Share value how much dependent upon income and expenditure"
   ]
  },
  {
   "cell_type": "code",
   "execution_count": 21,
   "metadata": {},
   "outputs": [
    {
     "data": {
      "text/plain": [
       "Text(0.5, 0, 'share')"
      ]
     },
     "execution_count": 21,
     "metadata": {},
     "output_type": "execute_result"
    },
    {
     "data": {
      "image/png": "[encoded data removed]",
      "text/plain": [
       "<Figure size 432x288 with 1 Axes>"
      ]
     },
     "metadata": {},
     "output_type": "display_data"
    }
   ],
   "source": [
    "from mpl_toolkits.mplot3d import Axes3D\n",
    "from sklearn.datasets import make_blobs\n",
    "fig=plt.figure()\n",
    "sns.set(style=\"darkgrid\")\n",
    "plt.rcParams[\"figure.figsize\"] = (8,6) \n",
    "X,y = make_blobs(n_samples=800,n_features=3,centers=4)\n",
    "ax = Axes3D(fig)\n",
    "ax.scatter(xs=df[\"income\"],ys=df[\"expenditure\"],zs=df[\"share\"],color=\"#a919c5bf\")\n",
    "ax.set_xlabel('income')\n",
    "ax.set_ylabel('expenditure')\n",
    "ax.set_zlabel('share')"
   ]
  },
  {
   "cell_type": "markdown",
   "metadata": {},
   "source": [
    "<<<<<<<<<<<<<<<<<<<<<<<<<<<<<<<<<<<<<<<<<<<<<<<<<<<<<<<<<<<<<<<<<<<<<<<<<<<<"
   ]
  },
  {
   "cell_type": "markdown",
   "metadata": {},
   "source": [
    "### Rechecking the data"
   ]
  },
  {
   "cell_type": "code",
   "execution_count": 22,
   "metadata": {},
   "outputs": [
    {
     "data": {
      "text/html": [
       "<div>\n",
       "<style scoped>\n",
       "    .dataframe tbody tr th:only-of-type {\n",
       "        vertical-align: middle;\n",
       "    }\n",
       "\n",
       "    .dataframe tbody tr th {\n",
       "        vertical-align: top;\n",
       "    }\n",
       "\n",
       "    .dataframe thead th {\n",
       "        text-align: right;\n",
       "    }\n",
       "</style>\n",
       "<table border=\"1\" class=\"dataframe\">\n",
       "  <thead>\n",
       "    <tr style=\"text-align: right;\">\n",
       "      <th></th>\n",
       "      <th>card</th>\n",
       "      <th>reports</th>\n",
       "      <th>age</th>\n",
       "      <th>income</th>\n",
       "      <th>share</th>\n",
       "      <th>expenditure</th>\n",
       "      <th>owner</th>\n",
       "      <th>selfemp</th>\n",
       "      <th>dependents</th>\n",
       "      <th>months</th>\n",
       "      <th>majorcards</th>\n",
       "      <th>active</th>\n",
       "    </tr>\n",
       "  </thead>\n",
       "  <tbody>\n",
       "    <tr>\n",
       "      <th>count</th>\n",
       "      <td>1319</td>\n",
       "      <td>1319.000000</td>\n",
       "      <td>1319.000000</td>\n",
       "      <td>1319.000000</td>\n",
       "      <td>1319.000000</td>\n",
       "      <td>1319.000000</td>\n",
       "      <td>1319</td>\n",
       "      <td>1319</td>\n",
       "      <td>1319.000000</td>\n",
       "      <td>1319.000000</td>\n",
       "      <td>1319.000000</td>\n",
       "      <td>1319.000000</td>\n",
       "    </tr>\n",
       "    <tr>\n",
       "      <th>unique</th>\n",
       "      <td>2</td>\n",
       "      <td>NaN</td>\n",
       "      <td>NaN</td>\n",
       "      <td>NaN</td>\n",
       "      <td>NaN</td>\n",
       "      <td>NaN</td>\n",
       "      <td>2</td>\n",
       "      <td>2</td>\n",
       "      <td>NaN</td>\n",
       "      <td>NaN</td>\n",
       "      <td>NaN</td>\n",
       "      <td>NaN</td>\n",
       "    </tr>\n",
       "    <tr>\n",
       "      <th>top</th>\n",
       "      <td>yes</td>\n",
       "      <td>NaN</td>\n",
       "      <td>NaN</td>\n",
       "      <td>NaN</td>\n",
       "      <td>NaN</td>\n",
       "      <td>NaN</td>\n",
       "      <td>no</td>\n",
       "      <td>no</td>\n",
       "      <td>NaN</td>\n",
       "      <td>NaN</td>\n",
       "      <td>NaN</td>\n",
       "      <td>NaN</td>\n",
       "    </tr>\n",
       "    <tr>\n",
       "      <th>freq</th>\n",
       "      <td>1023</td>\n",
       "      <td>NaN</td>\n",
       "      <td>NaN</td>\n",
       "      <td>NaN</td>\n",
       "      <td>NaN</td>\n",
       "      <td>NaN</td>\n",
       "      <td>738</td>\n",
       "      <td>1228</td>\n",
       "      <td>NaN</td>\n",
       "      <td>NaN</td>\n",
       "      <td>NaN</td>\n",
       "      <td>NaN</td>\n",
       "    </tr>\n",
       "    <tr>\n",
       "      <th>mean</th>\n",
       "      <td>NaN</td>\n",
       "      <td>0.456406</td>\n",
       "      <td>33.013647</td>\n",
       "      <td>3.326168</td>\n",
       "      <td>0.045196</td>\n",
       "      <td>121.538634</td>\n",
       "      <td>NaN</td>\n",
       "      <td>NaN</td>\n",
       "      <td>0.993935</td>\n",
       "      <td>55.267627</td>\n",
       "      <td>0.817286</td>\n",
       "      <td>6.996967</td>\n",
       "    </tr>\n",
       "    <tr>\n",
       "      <th>std</th>\n",
       "      <td>NaN</td>\n",
       "      <td>1.345267</td>\n",
       "      <td>8.110661</td>\n",
       "      <td>1.187815</td>\n",
       "      <td>0.041644</td>\n",
       "      <td>116.915316</td>\n",
       "      <td>NaN</td>\n",
       "      <td>NaN</td>\n",
       "      <td>1.247745</td>\n",
       "      <td>66.271746</td>\n",
       "      <td>0.386579</td>\n",
       "      <td>6.305812</td>\n",
       "    </tr>\n",
       "    <tr>\n",
       "      <th>min</th>\n",
       "      <td>NaN</td>\n",
       "      <td>0.000000</td>\n",
       "      <td>21.000000</td>\n",
       "      <td>1.800000</td>\n",
       "      <td>0.000109</td>\n",
       "      <td>0.000000</td>\n",
       "      <td>NaN</td>\n",
       "      <td>NaN</td>\n",
       "      <td>0.000000</td>\n",
       "      <td>0.000000</td>\n",
       "      <td>0.000000</td>\n",
       "      <td>0.000000</td>\n",
       "    </tr>\n",
       "    <tr>\n",
       "      <th>25%</th>\n",
       "      <td>NaN</td>\n",
       "      <td>0.000000</td>\n",
       "      <td>26.000000</td>\n",
       "      <td>2.468150</td>\n",
       "      <td>0.002316</td>\n",
       "      <td>4.583333</td>\n",
       "      <td>NaN</td>\n",
       "      <td>NaN</td>\n",
       "      <td>0.000000</td>\n",
       "      <td>12.000000</td>\n",
       "      <td>1.000000</td>\n",
       "      <td>2.000000</td>\n",
       "    </tr>\n",
       "    <tr>\n",
       "      <th>50%</th>\n",
       "      <td>NaN</td>\n",
       "      <td>0.000000</td>\n",
       "      <td>32.000000</td>\n",
       "      <td>3.180000</td>\n",
       "      <td>0.038827</td>\n",
       "      <td>101.298300</td>\n",
       "      <td>NaN</td>\n",
       "      <td>NaN</td>\n",
       "      <td>1.000000</td>\n",
       "      <td>30.000000</td>\n",
       "      <td>1.000000</td>\n",
       "      <td>6.000000</td>\n",
       "    </tr>\n",
       "    <tr>\n",
       "      <th>75%</th>\n",
       "      <td>NaN</td>\n",
       "      <td>0.000000</td>\n",
       "      <td>38.000000</td>\n",
       "      <td>3.750000</td>\n",
       "      <td>0.068097</td>\n",
       "      <td>182.845805</td>\n",
       "      <td>NaN</td>\n",
       "      <td>NaN</td>\n",
       "      <td>2.000000</td>\n",
       "      <td>72.000000</td>\n",
       "      <td>1.000000</td>\n",
       "      <td>11.000000</td>\n",
       "    </tr>\n",
       "    <tr>\n",
       "      <th>max</th>\n",
       "      <td>NaN</td>\n",
       "      <td>14.000000</td>\n",
       "      <td>56.000000</td>\n",
       "      <td>7.500000</td>\n",
       "      <td>0.159700</td>\n",
       "      <td>449.039200</td>\n",
       "      <td>NaN</td>\n",
       "      <td>NaN</td>\n",
       "      <td>6.000000</td>\n",
       "      <td>540.000000</td>\n",
       "      <td>1.000000</td>\n",
       "      <td>46.000000</td>\n",
       "    </tr>\n",
       "  </tbody>\n",
       "</table>\n",
       "</div>"
      ],
      "text/plain": [
       "        card      reports          age       income        share  expenditure  \\\n",
       "count   1319  1319.000000  1319.000000  1319.000000  1319.000000  1319.000000   \n",
       "unique     2          NaN          NaN          NaN          NaN          NaN   \n",
       "top      yes          NaN          NaN          NaN          NaN          NaN   \n",
       "freq    1023          NaN          NaN          NaN          NaN          NaN   \n",
       "mean     NaN     0.456406    33.013647     3.326168     0.045196   121.538634   \n",
       "std      NaN     1.345267     8.110661     1.187815     0.041644   116.915316   \n",
       "min      NaN     0.000000    21.000000     1.800000     0.000109     0.000000   \n",
       "25%      NaN     0.000000    26.000000     2.468150     0.002316     4.583333   \n",
       "50%      NaN     0.000000    32.000000     3.180000     0.038827   101.298300   \n",
       "75%      NaN     0.000000    38.000000     3.750000     0.068097   182.845805   \n",
       "max      NaN    14.000000    56.000000     7.500000     0.159700   449.039200   \n",
       "\n",
       "       owner selfemp   dependents       months   majorcards       active  \n",
       "count   1319    1319  1319.000000  1319.000000  1319.000000  1319.000000  \n",
       "unique     2       2          NaN          NaN          NaN          NaN  \n",
       "top       no      no          NaN          NaN          NaN          NaN  \n",
       "freq     738    1228          NaN          NaN          NaN          NaN  \n",
       "mean     NaN     NaN     0.993935    55.267627     0.817286     6.996967  \n",
       "std      NaN     NaN     1.247745    66.271746     0.386579     6.305812  \n",
       "min      NaN     NaN     0.000000     0.000000     0.000000     0.000000  \n",
       "25%      NaN     NaN     0.000000    12.000000     1.000000     2.000000  \n",
       "50%      NaN     NaN     1.000000    30.000000     1.000000     6.000000  \n",
       "75%      NaN     NaN     2.000000    72.000000     1.000000    11.000000  \n",
       "max      NaN     NaN     6.000000   540.000000     1.000000    46.000000  "
      ]
     },
     "execution_count": 22,
     "metadata": {},
     "output_type": "execute_result"
    }
   ],
   "source": [
    "df.describe(include=\"all\")"
   ]
  },
  {
   "cell_type": "markdown",
   "metadata": {},
   "source": [
    "<<<<<<<<<<<<<<<<<<<<<<<<<<<<<<<<<<<<<<<<<<<<<<<<<<<<<<<<<<<<<<<<<<<<<<<<<<<<"
   ]
  },
  {
   "cell_type": "markdown",
   "metadata": {},
   "source": [
    "## 4. Training & Testing datasets"
   ]
  },
  {
   "cell_type": "markdown",
   "metadata": {},
   "source": [
    "### K-nearest neighbors calssification (KNN)"
   ]
  },
  {
   "cell_type": "code",
   "execution_count": 5,
   "metadata": {},
   "outputs": [
    {
     "data": {
      "text/html": [
       "<div>\n",
       "<style scoped>\n",
       "    .dataframe tbody tr th:only-of-type {\n",
       "        vertical-align: middle;\n",
       "    }\n",
       "\n",
       "    .dataframe tbody tr th {\n",
       "        vertical-align: top;\n",
       "    }\n",
       "\n",
       "    .dataframe thead th {\n",
       "        text-align: right;\n",
       "    }\n",
       "</style>\n",
       "<table border=\"1\" class=\"dataframe\">\n",
       "  <thead>\n",
       "    <tr style=\"text-align: right;\">\n",
       "      <th></th>\n",
       "      <th>income</th>\n",
       "      <th>expenditure</th>\n",
       "      <th>share</th>\n",
       "      <th>outcome</th>\n",
       "    </tr>\n",
       "  </thead>\n",
       "  <tbody>\n",
       "    <tr>\n",
       "      <th>0</th>\n",
       "      <td>4.5200</td>\n",
       "      <td>124.983300</td>\n",
       "      <td>0.033270</td>\n",
       "      <td>yes</td>\n",
       "    </tr>\n",
       "    <tr>\n",
       "      <th>1</th>\n",
       "      <td>2.4200</td>\n",
       "      <td>9.854167</td>\n",
       "      <td>0.005217</td>\n",
       "      <td>yes</td>\n",
       "    </tr>\n",
       "    <tr>\n",
       "      <th>2</th>\n",
       "      <td>4.5000</td>\n",
       "      <td>15.000000</td>\n",
       "      <td>0.004156</td>\n",
       "      <td>yes</td>\n",
       "    </tr>\n",
       "    <tr>\n",
       "      <th>3</th>\n",
       "      <td>2.5400</td>\n",
       "      <td>137.869200</td>\n",
       "      <td>0.065214</td>\n",
       "      <td>yes</td>\n",
       "    </tr>\n",
       "    <tr>\n",
       "      <th>4</th>\n",
       "      <td>9.7867</td>\n",
       "      <td>546.503300</td>\n",
       "      <td>0.067051</td>\n",
       "      <td>yes</td>\n",
       "    </tr>\n",
       "  </tbody>\n",
       "</table>\n",
       "</div>"
      ],
      "text/plain": [
       "   income  expenditure     share outcome\n",
       "0  4.5200   124.983300  0.033270     yes\n",
       "1  2.4200     9.854167  0.005217     yes\n",
       "2  4.5000    15.000000  0.004156     yes\n",
       "3  2.5400   137.869200  0.065214     yes\n",
       "4  9.7867   546.503300  0.067051     yes"
      ]
     },
     "execution_count": 5,
     "metadata": {},
     "output_type": "execute_result"
    }
   ],
   "source": [
    "import seaborn\n",
    "from sklearn import neighbors\n",
    "from sklearn.neighbors import KNeighborsClassifier\n",
    "\n",
    "# creating the data set for KNN\n",
    "training_data_knn = pd.DataFrame()\n",
    "training_data_knn[\"income\"]      = df[\"income\"]\n",
    "training_data_knn[\"expenditure\"] = df[\"expenditure\"]\n",
    "training_data_knn[\"share\"]       = df[\"share\"]\n",
    "training_data_knn[\"outcome\"]     = df[\"card\"]\n",
    "training_data_knn.head()"
   ]
  },
  {
   "cell_type": "code",
   "execution_count": 6,
   "metadata": {},
   "outputs": [
    {
     "name": "stdout",
     "output_type": "stream",
     "text": [
      "Score: 0.9810462471569371\n"
     ]
    },
    {
     "name": "stderr",
     "output_type": "stream",
     "text": [
      "C:\\Users\\suman\\Anaconda3\\lib\\site-packages\\ipykernel_launcher.py:1: FutureWarning: Method .as_matrix will be removed in a future version. Use .values instead.\n",
      "  \"\"\"Entry point for launching an IPython kernel.\n"
     ]
    }
   ],
   "source": [
    "X = training_data_knn.as_matrix(columns=[\"income\",\"share\",\"expenditure\"])\n",
    "y = np.array(training_data_knn[\"outcome\"])\n",
    "\n",
    "# train the learner\n",
    "classifier_knn = neighbors.KNeighborsClassifier(3,weights=\"uniform\")\n",
    "trained_model_knn  = classifier_knn.fit(X,y)\n",
    "# model has been trained\n",
    "\n",
    "accuracy_knn=trained_model_knn.score(X,y)    # view the model's score\n",
    "print(\"Score:\",accuracy_knn)"
   ]
  },
  {
   "cell_type": "code",
   "execution_count": 26,
   "metadata": {},
   "outputs": [
    {
     "name": "stdin",
     "output_type": "stream",
     "text": [
      "Income: 2.0\n",
      "Expenditure: 200\n"
     ]
    },
    {
     "name": "stdout",
     "output_type": "stream",
     "text": [
      "['yes']\n"
     ]
    }
   ],
   "source": [
    "input_income=float(input(\"Income:\"))\n",
    "input_expand=float(input(\"Expenditure:\"))\n",
    "input_share=input_income/input_expand\n",
    "X_test = np.array([[input_income,input_share,input_expand]])    # create a test row\n",
    "print(trained_model_knn.predict(X_test))   "
   ]
  },
  {
   "cell_type": "markdown",
   "metadata": {},
   "source": [
    "<<<<<<<<<<<<<<<<<<<<<<<<<<<<<<<<<<<<<<<<<<<<<<<<<<<<<<<<<<<<<<<<<<<<<<<<<<<<"
   ]
  },
  {
   "cell_type": "markdown",
   "metadata": {},
   "source": [
    "### Naive Bayes "
   ]
  },
  {
   "cell_type": "code",
   "execution_count": 7,
   "metadata": {},
   "outputs": [
    {
     "data": {
      "text/html": [
       "<div>\n",
       "<style scoped>\n",
       "    .dataframe tbody tr th:only-of-type {\n",
       "        vertical-align: middle;\n",
       "    }\n",
       "\n",
       "    .dataframe tbody tr th {\n",
       "        vertical-align: top;\n",
       "    }\n",
       "\n",
       "    .dataframe thead th {\n",
       "        text-align: right;\n",
       "    }\n",
       "</style>\n",
       "<table border=\"1\" class=\"dataframe\">\n",
       "  <thead>\n",
       "    <tr style=\"text-align: right;\">\n",
       "      <th></th>\n",
       "      <th>income</th>\n",
       "      <th>expenditure</th>\n",
       "      <th>share</th>\n",
       "      <th>outcome</th>\n",
       "    </tr>\n",
       "  </thead>\n",
       "  <tbody>\n",
       "    <tr>\n",
       "      <th>0</th>\n",
       "      <td>4.5200</td>\n",
       "      <td>124.983300</td>\n",
       "      <td>0.033270</td>\n",
       "      <td>yes</td>\n",
       "    </tr>\n",
       "    <tr>\n",
       "      <th>1</th>\n",
       "      <td>2.4200</td>\n",
       "      <td>9.854167</td>\n",
       "      <td>0.005217</td>\n",
       "      <td>yes</td>\n",
       "    </tr>\n",
       "    <tr>\n",
       "      <th>2</th>\n",
       "      <td>4.5000</td>\n",
       "      <td>15.000000</td>\n",
       "      <td>0.004156</td>\n",
       "      <td>yes</td>\n",
       "    </tr>\n",
       "    <tr>\n",
       "      <th>3</th>\n",
       "      <td>2.5400</td>\n",
       "      <td>137.869200</td>\n",
       "      <td>0.065214</td>\n",
       "      <td>yes</td>\n",
       "    </tr>\n",
       "    <tr>\n",
       "      <th>4</th>\n",
       "      <td>9.7867</td>\n",
       "      <td>546.503300</td>\n",
       "      <td>0.067051</td>\n",
       "      <td>yes</td>\n",
       "    </tr>\n",
       "  </tbody>\n",
       "</table>\n",
       "</div>"
      ],
      "text/plain": [
       "   income  expenditure     share outcome\n",
       "0  4.5200   124.983300  0.033270     yes\n",
       "1  2.4200     9.854167  0.005217     yes\n",
       "2  4.5000    15.000000  0.004156     yes\n",
       "3  2.5400   137.869200  0.065214     yes\n",
       "4  9.7867   546.503300  0.067051     yes"
      ]
     },
     "execution_count": 7,
     "metadata": {},
     "output_type": "execute_result"
    }
   ],
   "source": [
    "from sklearn import metrics\n",
    "from sklearn.naive_bayes import GaussianNB\n",
    "from sklearn.model_selection import train_test_split \n",
    "\n",
    "# creating the data set for Naive Bayes\n",
    "training_data_nb = pd.DataFrame()\n",
    "training_data_nb[\"income\"]      = df[\"income\"]\n",
    "training_data_nb[\"expenditure\"] = df[\"expenditure\"]\n",
    "training_data_nb[\"share\"]       = df[\"share\"]\n",
    "training_data_nb[\"outcome\"]     = df[\"card\"]\n",
    "training_data_nb.head()"
   ]
  },
  {
   "cell_type": "code",
   "execution_count": 8,
   "metadata": {},
   "outputs": [
    {
     "name": "stdout",
     "output_type": "stream",
     "text": [
      "Score: 0.9829545454545454\n"
     ]
    },
    {
     "name": "stderr",
     "output_type": "stream",
     "text": [
      "C:\\Users\\suman\\Anaconda3\\lib\\site-packages\\ipykernel_launcher.py:1: FutureWarning: Method .as_matrix will be removed in a future version. Use .values instead.\n",
      "  \"\"\"Entry point for launching an IPython kernel.\n"
     ]
    }
   ],
   "source": [
    "X = training_data_nb.as_matrix(columns=[\"income\",\"share\",\"expenditure\"])\n",
    "y = np.array(training_data_nb[\"outcome\"])\n",
    "\n",
    "X_train, X_test, y_train, y_test = train_test_split(X, y, test_size=0.4, random_state=1) \n",
    "gnb = GaussianNB() \n",
    "trained_model_nb=gnb.fit(X_train, y_train)\n",
    "y_pred = gnb.predict(X_test)\n",
    "\n",
    "accuracy_nb=metrics.accuracy_score(y_test, y_pred)\n",
    "print(\"Score:\",accuracy_nb)"
   ]
  },
  {
   "cell_type": "code",
   "execution_count": 31,
   "metadata": {},
   "outputs": [
    {
     "name": "stdin",
     "output_type": "stream",
     "text": [
      "Income: 4.2\n",
      "Expenditure: 1000\n"
     ]
    },
    {
     "name": "stdout",
     "output_type": "stream",
     "text": [
      "['yes']\n"
     ]
    }
   ],
   "source": [
    "input_income=float(input(\"Income:\"))\n",
    "input_expand=float(input(\"Expenditure:\"))\n",
    "input_share=input_income/input_expand\n",
    "X_test = np.array([[input_income,input_share,input_expand]])    # create a test row\n",
    "print(trained_model_nb.predict(X_test))  "
   ]
  },
  {
   "cell_type": "markdown",
   "metadata": {},
   "source": [
    "<<<<<<<<<<<<<<<<<<<<<<<<<<<<<<<<<<<<<<<<<<<<<<<<<<<<<<<<<<<<<<<<<<<<<<<<<<<<"
   ]
  },
  {
   "cell_type": "markdown",
   "metadata": {},
   "source": [
    "### Linear Regression"
   ]
  },
  {
   "cell_type": "code",
   "execution_count": 9,
   "metadata": {},
   "outputs": [
    {
     "data": {
      "text/html": [
       "<div>\n",
       "<style scoped>\n",
       "    .dataframe tbody tr th:only-of-type {\n",
       "        vertical-align: middle;\n",
       "    }\n",
       "\n",
       "    .dataframe tbody tr th {\n",
       "        vertical-align: top;\n",
       "    }\n",
       "\n",
       "    .dataframe thead th {\n",
       "        text-align: right;\n",
       "    }\n",
       "</style>\n",
       "<table border=\"1\" class=\"dataframe\">\n",
       "  <thead>\n",
       "    <tr style=\"text-align: right;\">\n",
       "      <th></th>\n",
       "      <th>income</th>\n",
       "      <th>expenditure</th>\n",
       "      <th>share</th>\n",
       "      <th>outcome</th>\n",
       "    </tr>\n",
       "  </thead>\n",
       "  <tbody>\n",
       "    <tr>\n",
       "      <th>0</th>\n",
       "      <td>4.5200</td>\n",
       "      <td>124.983300</td>\n",
       "      <td>0.033270</td>\n",
       "      <td>1</td>\n",
       "    </tr>\n",
       "    <tr>\n",
       "      <th>1</th>\n",
       "      <td>2.4200</td>\n",
       "      <td>9.854167</td>\n",
       "      <td>0.005217</td>\n",
       "      <td>1</td>\n",
       "    </tr>\n",
       "    <tr>\n",
       "      <th>2</th>\n",
       "      <td>4.5000</td>\n",
       "      <td>15.000000</td>\n",
       "      <td>0.004156</td>\n",
       "      <td>1</td>\n",
       "    </tr>\n",
       "    <tr>\n",
       "      <th>3</th>\n",
       "      <td>2.5400</td>\n",
       "      <td>137.869200</td>\n",
       "      <td>0.065214</td>\n",
       "      <td>1</td>\n",
       "    </tr>\n",
       "    <tr>\n",
       "      <th>4</th>\n",
       "      <td>9.7867</td>\n",
       "      <td>546.503300</td>\n",
       "      <td>0.067051</td>\n",
       "      <td>1</td>\n",
       "    </tr>\n",
       "  </tbody>\n",
       "</table>\n",
       "</div>"
      ],
      "text/plain": [
       "   income  expenditure     share  outcome\n",
       "0  4.5200   124.983300  0.033270        1\n",
       "1  2.4200     9.854167  0.005217        1\n",
       "2  4.5000    15.000000  0.004156        1\n",
       "3  2.5400   137.869200  0.065214        1\n",
       "4  9.7867   546.503300  0.067051        1"
      ]
     },
     "execution_count": 9,
     "metadata": {},
     "output_type": "execute_result"
    }
   ],
   "source": [
    "from sklearn.linear_model import LinearRegression\n",
    "from sklearn.preprocessing import StandardScaler\n",
    "\n",
    "# creating the data set for Linear Regressign\n",
    "training_data_lr = pd.DataFrame()\n",
    "training_data_lr[\"income\"]      = df[\"income\"]\n",
    "training_data_lr[\"expenditure\"] = df[\"expenditure\"]\n",
    "training_data_lr[\"share\"]       = df[\"share\"]\n",
    "training_data_lr[\"outcome\"]     = df[\"card\"]\n",
    "training_data_lr.outcome.replace((\"yes\", \"no\"), (1,0), inplace=True)\n",
    "training_data_lr.head()"
   ]
  },
  {
   "cell_type": "code",
   "execution_count": 11,
   "metadata": {},
   "outputs": [
    {
     "name": "stdout",
     "output_type": "stream",
     "text": [
      "Score: 0.16396251444287557\n"
     ]
    }
   ],
   "source": [
    "X = training_data_lr.drop(\"outcome\",axis = 1)\n",
    "scaler=StandardScaler()\n",
    "X_std = scaler.fit_transform(X) \n",
    "trained_model_lr= LinearRegression().fit(X_std,training_data_lr.outcome)\n",
    "\n",
    "accuracy_lr=trained_model_lr.score(X_std,training_data_lr.outcome)\n",
    "print (\"Score:\",accuracy_lr)"
   ]
  },
  {
   "cell_type": "code",
   "execution_count": 12,
   "metadata": {},
   "outputs": [
    {
     "name": "stdin",
     "output_type": "stream",
     "text": [
      "Income: 52\n",
      "Expenditure: 300\n"
     ]
    },
    {
     "name": "stdout",
     "output_type": "stream",
     "text": [
      "[51.12358504]\n"
     ]
    }
   ],
   "source": [
    "input_income=float(input(\"Income:\"))\n",
    "input_expand=float(input(\"Expenditure:\"))\n",
    "input_share=input_income/input_expand\n",
    "X_test = np.array([[input_income,input_share,input_expand]]) \n",
    "X_test_std = scaler.fit_transform(X_test)\n",
    "print(trained_model_lr.predict(X_test))"
   ]
  },
  {
   "cell_type": "markdown",
   "metadata": {},
   "source": [
    "<<<<<<<<<<<<<<<<<<<<<<<<<<<<<<<<<<<<<<<<<<<<<<<<<<<<<<<<<<<<<<<<<<<<<<<<<<<<"
   ]
  },
  {
   "cell_type": "markdown",
   "metadata": {},
   "source": [
    "### Decision Tree"
   ]
  },
  {
   "cell_type": "code",
   "execution_count": 13,
   "metadata": {},
   "outputs": [
    {
     "data": {
      "text/html": [
       "<div>\n",
       "<style scoped>\n",
       "    .dataframe tbody tr th:only-of-type {\n",
       "        vertical-align: middle;\n",
       "    }\n",
       "\n",
       "    .dataframe tbody tr th {\n",
       "        vertical-align: top;\n",
       "    }\n",
       "\n",
       "    .dataframe thead th {\n",
       "        text-align: right;\n",
       "    }\n",
       "</style>\n",
       "<table border=\"1\" class=\"dataframe\">\n",
       "  <thead>\n",
       "    <tr style=\"text-align: right;\">\n",
       "      <th></th>\n",
       "      <th>income</th>\n",
       "      <th>expenditure</th>\n",
       "      <th>share</th>\n",
       "      <th>outcome</th>\n",
       "    </tr>\n",
       "  </thead>\n",
       "  <tbody>\n",
       "    <tr>\n",
       "      <th>0</th>\n",
       "      <td>4.5200</td>\n",
       "      <td>124.983300</td>\n",
       "      <td>0.033270</td>\n",
       "      <td>yes</td>\n",
       "    </tr>\n",
       "    <tr>\n",
       "      <th>1</th>\n",
       "      <td>2.4200</td>\n",
       "      <td>9.854167</td>\n",
       "      <td>0.005217</td>\n",
       "      <td>yes</td>\n",
       "    </tr>\n",
       "    <tr>\n",
       "      <th>2</th>\n",
       "      <td>4.5000</td>\n",
       "      <td>15.000000</td>\n",
       "      <td>0.004156</td>\n",
       "      <td>yes</td>\n",
       "    </tr>\n",
       "    <tr>\n",
       "      <th>3</th>\n",
       "      <td>2.5400</td>\n",
       "      <td>137.869200</td>\n",
       "      <td>0.065214</td>\n",
       "      <td>yes</td>\n",
       "    </tr>\n",
       "    <tr>\n",
       "      <th>4</th>\n",
       "      <td>9.7867</td>\n",
       "      <td>546.503300</td>\n",
       "      <td>0.067051</td>\n",
       "      <td>yes</td>\n",
       "    </tr>\n",
       "  </tbody>\n",
       "</table>\n",
       "</div>"
      ],
      "text/plain": [
       "   income  expenditure     share outcome\n",
       "0  4.5200   124.983300  0.033270     yes\n",
       "1  2.4200     9.854167  0.005217     yes\n",
       "2  4.5000    15.000000  0.004156     yes\n",
       "3  2.5400   137.869200  0.065214     yes\n",
       "4  9.7867   546.503300  0.067051     yes"
      ]
     },
     "execution_count": 13,
     "metadata": {},
     "output_type": "execute_result"
    }
   ],
   "source": [
    "from sklearn import tree\n",
    "\n",
    "# creating the data set for Decision Tree\n",
    "training_data_dt= pd.DataFrame()\n",
    "training_data_dt[\"income\"]      = df[\"income\"]\n",
    "training_data_dt[\"expenditure\"] = df[\"expenditure\"]\n",
    "training_data_dt[\"share\"]       = df[\"share\"]\n",
    "training_data_dt[\"outcome\"]     = df[\"card\"]\n",
    "training_data_dt.head()"
   ]
  },
  {
   "cell_type": "code",
   "execution_count": 15,
   "metadata": {},
   "outputs": [
    {
     "name": "stdout",
     "output_type": "stream",
     "text": [
      "Score: 0.9886277482941622\n"
     ]
    },
    {
     "name": "stderr",
     "output_type": "stream",
     "text": [
      "C:\\Users\\suman\\Anaconda3\\lib\\site-packages\\ipykernel_launcher.py:1: FutureWarning: Method .as_matrix will be removed in a future version. Use .values instead.\n",
      "  \"\"\"Entry point for launching an IPython kernel.\n"
     ]
    }
   ],
   "source": [
    "X = training_data_dt.as_matrix(columns=[\"income\",\"share\",\"expenditure\"])\n",
    "y = np.array(training_data_dt[\"outcome\"])\n",
    "\n",
    "clf = tree.DecisionTreeClassifier()\n",
    "trained_model_dt = clf.fit(X, y)\n",
    "\n",
    "accuracy_dt=trained_model_dt.score(X,y)    # view the model's score\n",
    "print(\"Score:\",accuracy_dt)"
   ]
  },
  {
   "cell_type": "code",
   "execution_count": 16,
   "metadata": {},
   "outputs": [
    {
     "name": "stdin",
     "output_type": "stream",
     "text": [
      "Income: 56\n",
      "Expenditure: 56000\n"
     ]
    },
    {
     "name": "stdout",
     "output_type": "stream",
     "text": [
      "['yes']\n"
     ]
    }
   ],
   "source": [
    "input_income=float(input(\"Income:\"))\n",
    "input_expand=float(input(\"Expenditure:\"))\n",
    "input_share=input_income/input_expand\n",
    "X_test = np.array([[input_income,input_share,input_expand]])    # create a test row\n",
    "print(trained_model_dt.predict(X_test))  "
   ]
  },
  {
   "cell_type": "markdown",
   "metadata": {},
   "source": [
    "<<<<<<<<<<<<<<<<<<<<<<<<<<<<<<<<<<<<<<<<<<<<<<<<<<<<<<<<<<<<<<<<<<<<<<<<<<<<"
   ]
  },
  {
   "cell_type": "markdown",
   "metadata": {},
   "source": [
    "## 5. Comparing Each Model"
   ]
  },
  {
   "cell_type": "code",
   "execution_count": 17,
   "metadata": {},
   "outputs": [
    {
     "data": {
      "image/png": "[encoded data removed]",
      "text/plain": [
       "<Figure size 432x288 with 1 Axes>"
      ]
     },
     "metadata": {
      "needs_background": "light"
     },
     "output_type": "display_data"
    }
   ],
   "source": [
    "models=[\"K Neighbors\",\"Naive Bayes\",\"Decision Tree\",\"Linear Regression\"]\n",
    "accuracies=[accuracy_knn,accuracy_nb,accuracy_dt,accuracy_lr]\n",
    "barlist=plt.bar(models,accuracies,width=0.5,alpha=0.6)\n",
    "plt.xlabel(\"Classification Model\", fontsize=12)\n",
    "plt.ylabel(\"Accuracy\", fontsize=12)\n",
    "plt.title(\"Comparison of accuracies\", fontsize=15)\n",
    "barlist[0].set_color(\"#ff2f2fd9\")\n",
    "barlist[1].set_color(\"#2fff46d9\")\n",
    "barlist[2].set_color(\"#4a62fda8\")\n",
    "barlist[3].set_color(\"#4acdfda8\")"
   ]
  },
  {
   "cell_type": "code",
   "execution_count": null,
   "metadata": {},
   "outputs": [],
   "source": []
  },
  {
   "cell_type": "code",
   "execution_count": null,
   "metadata": {},
   "outputs": [],
   "source": []
  },
  {
   "cell_type": "code",
   "execution_count": null,
   "metadata": {},
   "outputs": [],
   "source": []
  }
 ],
 "metadata": {
  "kernelspec": {
   "display_name": "Python 3",
   "language": "python",
   "name": "python3"
  },
  "language_info": {
   "codemirror_mode": {
    "name": "ipython",
    "version": 3
   },
   "file_extension": ".py",
   "mimetype": "text/x-python",
   "name": "python",
   "nbconvert_exporter": "python",
   "pygments_lexer": "ipython3",
   "version": "3.7.3"
  }
 },
 "nbformat": 4,
 "nbformat_minor": 2
}
